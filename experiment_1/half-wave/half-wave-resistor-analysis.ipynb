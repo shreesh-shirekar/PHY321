{
 "cells": [
  {
   "metadata": {},
   "cell_type": "markdown",
   "source": "## Importing the Half-Wave Rectifier Data from the excel sheet"
  },
  {
   "cell_type": "code",
   "metadata": {
    "ExecuteTime": {
     "end_time": "2024-08-23T09:28:54.949272Z",
     "start_time": "2024-08-23T09:28:52.723624Z"
    }
   },
   "source": [
    "import matplotlib.pyplot as plt\n",
    "import pandas as pd\n",
    "import numpy as np\n",
    "\n",
    "df = pd.read_excel(\"vpp_varying-resistor.xlsx\")\n",
    "df.index += 1\n",
    "\n",
    "\n",
    "\n",
    "df"
   ],
   "outputs": [
    {
     "data": {
      "text/plain": [
       "  Resistors (Ohms)    100    470    560  1000  2200   5600  100000\n",
       "1        Reading 1  7.800  3.360  3.060  2.10  1.52  1.100    0.84\n",
       "2        Reading 2  7.760  3.400  3.060  2.10  1.54  1.120    0.88\n",
       "3        Reading 3  7.840  3.380  3.140  2.08  1.54  1.140    0.92\n",
       "4        Reading 4  7.840  3.360  3.040  2.10  1.56  1.140    0.96\n",
       "5        Reading 5  7.880  3.360  3.060  2.12  1.54  1.160    1.00\n",
       "6          Average  7.824  3.372  3.072  2.10  1.54  1.132    0.92"
      ],
      "text/html": [
       "<div>\n",
       "<style scoped>\n",
       "    .dataframe tbody tr th:only-of-type {\n",
       "        vertical-align: middle;\n",
       "    }\n",
       "\n",
       "    .dataframe tbody tr th {\n",
       "        vertical-align: top;\n",
       "    }\n",
       "\n",
       "    .dataframe thead th {\n",
       "        text-align: right;\n",
       "    }\n",
       "</style>\n",
       "<table border=\"1\" class=\"dataframe\">\n",
       "  <thead>\n",
       "    <tr style=\"text-align: right;\">\n",
       "      <th></th>\n",
       "      <th>Resistors (Ohms)</th>\n",
       "      <th>100</th>\n",
       "      <th>470</th>\n",
       "      <th>560</th>\n",
       "      <th>1000</th>\n",
       "      <th>2200</th>\n",
       "      <th>5600</th>\n",
       "      <th>100000</th>\n",
       "    </tr>\n",
       "  </thead>\n",
       "  <tbody>\n",
       "    <tr>\n",
       "      <th>1</th>\n",
       "      <td>Reading 1</td>\n",
       "      <td>7.800</td>\n",
       "      <td>3.360</td>\n",
       "      <td>3.060</td>\n",
       "      <td>2.10</td>\n",
       "      <td>1.52</td>\n",
       "      <td>1.100</td>\n",
       "      <td>0.84</td>\n",
       "    </tr>\n",
       "    <tr>\n",
       "      <th>2</th>\n",
       "      <td>Reading 2</td>\n",
       "      <td>7.760</td>\n",
       "      <td>3.400</td>\n",
       "      <td>3.060</td>\n",
       "      <td>2.10</td>\n",
       "      <td>1.54</td>\n",
       "      <td>1.120</td>\n",
       "      <td>0.88</td>\n",
       "    </tr>\n",
       "    <tr>\n",
       "      <th>3</th>\n",
       "      <td>Reading 3</td>\n",
       "      <td>7.840</td>\n",
       "      <td>3.380</td>\n",
       "      <td>3.140</td>\n",
       "      <td>2.08</td>\n",
       "      <td>1.54</td>\n",
       "      <td>1.140</td>\n",
       "      <td>0.92</td>\n",
       "    </tr>\n",
       "    <tr>\n",
       "      <th>4</th>\n",
       "      <td>Reading 4</td>\n",
       "      <td>7.840</td>\n",
       "      <td>3.360</td>\n",
       "      <td>3.040</td>\n",
       "      <td>2.10</td>\n",
       "      <td>1.56</td>\n",
       "      <td>1.140</td>\n",
       "      <td>0.96</td>\n",
       "    </tr>\n",
       "    <tr>\n",
       "      <th>5</th>\n",
       "      <td>Reading 5</td>\n",
       "      <td>7.880</td>\n",
       "      <td>3.360</td>\n",
       "      <td>3.060</td>\n",
       "      <td>2.12</td>\n",
       "      <td>1.54</td>\n",
       "      <td>1.160</td>\n",
       "      <td>1.00</td>\n",
       "    </tr>\n",
       "    <tr>\n",
       "      <th>6</th>\n",
       "      <td>Average</td>\n",
       "      <td>7.824</td>\n",
       "      <td>3.372</td>\n",
       "      <td>3.072</td>\n",
       "      <td>2.10</td>\n",
       "      <td>1.54</td>\n",
       "      <td>1.132</td>\n",
       "      <td>0.92</td>\n",
       "    </tr>\n",
       "  </tbody>\n",
       "</table>\n",
       "</div>"
      ]
     },
     "execution_count": 2,
     "metadata": {},
     "output_type": "execute_result"
    }
   ],
   "execution_count": 2
  },
  {
   "metadata": {},
   "cell_type": "markdown",
   "source": "## Calculating the Standard Error for each resistor using Numpy"
  },
  {
   "cell_type": "code",
   "metadata": {
    "ExecuteTime": {
     "end_time": "2024-08-23T09:28:55.136372Z",
     "start_time": "2024-08-23T09:28:55.092313Z"
    }
   },
   "source": [
    "\n",
    "data = {\n",
    "    100: [7.8, 7.76, 7.84, 7.84, 7.88],\n",
    "    470: [3.36, 3.4, 3.38, 3.36, 3.36],\n",
    "    560: [3.06, 3.06, 3.14, 3.04, 3.06],\n",
    "    1000: [2.1, 2.1, 2.08, 2.1, 2.12],\n",
    "    2200: [1.52, 1.54, 1.54, 1.56, 1.54],\n",
    "    5600: [1.1, 1.12, 1.14, 1.14, 1.16],\n",
    "    100000: [0.84, 0.88, 0.92, 0.96, 1.0]\n",
    "}\n",
    "\n",
    "# calculating the standard error which is standard deviation/square root of number of readings\n",
    "standard_errors = {resistor: np.std(readings) / np.sqrt(len(readings)) for resistor, readings in data.items()}\n",
    "\n",
    "for resistor, se in standard_errors.items():\n",
    "    print(f\"Resistor {resistor} Ohms: Standard Error = {se:.4f}\")\n",
    "    \n",
    "df\n"
   ],
   "outputs": [
    {
     "name": "stdout",
     "output_type": "stream",
     "text": [
      "Resistor 100 Ohms: Standard Error = 0.0182\n",
      "Resistor 470 Ohms: Standard Error = 0.0072\n",
      "Resistor 560 Ohms: Standard Error = 0.0156\n",
      "Resistor 1000 Ohms: Standard Error = 0.0057\n",
      "Resistor 2200 Ohms: Standard Error = 0.0057\n",
      "Resistor 5600 Ohms: Standard Error = 0.0091\n",
      "Resistor 100000 Ohms: Standard Error = 0.0253\n"
     ]
    },
    {
     "data": {
      "text/plain": [
       "  Resistors (Ohms)    100    470    560  1000  2200   5600  100000\n",
       "1        Reading 1  7.800  3.360  3.060  2.10  1.52  1.100    0.84\n",
       "2        Reading 2  7.760  3.400  3.060  2.10  1.54  1.120    0.88\n",
       "3        Reading 3  7.840  3.380  3.140  2.08  1.54  1.140    0.92\n",
       "4        Reading 4  7.840  3.360  3.040  2.10  1.56  1.140    0.96\n",
       "5        Reading 5  7.880  3.360  3.060  2.12  1.54  1.160    1.00\n",
       "6          Average  7.824  3.372  3.072  2.10  1.54  1.132    0.92"
      ],
      "text/html": [
       "<div>\n",
       "<style scoped>\n",
       "    .dataframe tbody tr th:only-of-type {\n",
       "        vertical-align: middle;\n",
       "    }\n",
       "\n",
       "    .dataframe tbody tr th {\n",
       "        vertical-align: top;\n",
       "    }\n",
       "\n",
       "    .dataframe thead th {\n",
       "        text-align: right;\n",
       "    }\n",
       "</style>\n",
       "<table border=\"1\" class=\"dataframe\">\n",
       "  <thead>\n",
       "    <tr style=\"text-align: right;\">\n",
       "      <th></th>\n",
       "      <th>Resistors (Ohms)</th>\n",
       "      <th>100</th>\n",
       "      <th>470</th>\n",
       "      <th>560</th>\n",
       "      <th>1000</th>\n",
       "      <th>2200</th>\n",
       "      <th>5600</th>\n",
       "      <th>100000</th>\n",
       "    </tr>\n",
       "  </thead>\n",
       "  <tbody>\n",
       "    <tr>\n",
       "      <th>1</th>\n",
       "      <td>Reading 1</td>\n",
       "      <td>7.800</td>\n",
       "      <td>3.360</td>\n",
       "      <td>3.060</td>\n",
       "      <td>2.10</td>\n",
       "      <td>1.52</td>\n",
       "      <td>1.100</td>\n",
       "      <td>0.84</td>\n",
       "    </tr>\n",
       "    <tr>\n",
       "      <th>2</th>\n",
       "      <td>Reading 2</td>\n",
       "      <td>7.760</td>\n",
       "      <td>3.400</td>\n",
       "      <td>3.060</td>\n",
       "      <td>2.10</td>\n",
       "      <td>1.54</td>\n",
       "      <td>1.120</td>\n",
       "      <td>0.88</td>\n",
       "    </tr>\n",
       "    <tr>\n",
       "      <th>3</th>\n",
       "      <td>Reading 3</td>\n",
       "      <td>7.840</td>\n",
       "      <td>3.380</td>\n",
       "      <td>3.140</td>\n",
       "      <td>2.08</td>\n",
       "      <td>1.54</td>\n",
       "      <td>1.140</td>\n",
       "      <td>0.92</td>\n",
       "    </tr>\n",
       "    <tr>\n",
       "      <th>4</th>\n",
       "      <td>Reading 4</td>\n",
       "      <td>7.840</td>\n",
       "      <td>3.360</td>\n",
       "      <td>3.040</td>\n",
       "      <td>2.10</td>\n",
       "      <td>1.56</td>\n",
       "      <td>1.140</td>\n",
       "      <td>0.96</td>\n",
       "    </tr>\n",
       "    <tr>\n",
       "      <th>5</th>\n",
       "      <td>Reading 5</td>\n",
       "      <td>7.880</td>\n",
       "      <td>3.360</td>\n",
       "      <td>3.060</td>\n",
       "      <td>2.12</td>\n",
       "      <td>1.54</td>\n",
       "      <td>1.160</td>\n",
       "      <td>1.00</td>\n",
       "    </tr>\n",
       "    <tr>\n",
       "      <th>6</th>\n",
       "      <td>Average</td>\n",
       "      <td>7.824</td>\n",
       "      <td>3.372</td>\n",
       "      <td>3.072</td>\n",
       "      <td>2.10</td>\n",
       "      <td>1.54</td>\n",
       "      <td>1.132</td>\n",
       "      <td>0.92</td>\n",
       "    </tr>\n",
       "  </tbody>\n",
       "</table>\n",
       "</div>"
      ]
     },
     "execution_count": 3,
     "metadata": {},
     "output_type": "execute_result"
    }
   ],
   "execution_count": 3
  },
  {
   "metadata": {},
   "cell_type": "markdown",
   "source": "## Find average of each resistor reading"
  },
  {
   "metadata": {
    "ExecuteTime": {
     "end_time": "2024-08-23T09:28:55.418399Z",
     "start_time": "2024-08-23T09:28:55.406366Z"
    }
   },
   "cell_type": "code",
   "source": [
    "# df = df.apply(pd.to_numeric, errors='coerce')\n",
    "# averages = df.mean(axis=0)\n",
    "# print(averages)"
   ],
   "outputs": [],
   "execution_count": 4
  },
  {
   "metadata": {},
   "cell_type": "markdown",
   "source": "## Append average into dataframe"
  },
  {
   "metadata": {
    "ExecuteTime": {
     "end_time": "2024-08-23T09:28:55.733424Z",
     "start_time": "2024-08-23T09:28:55.721364Z"
    }
   },
   "cell_type": "code",
   "source": [
    "# averages_df = pd.DataFrame(averages).T\n",
    "# averages_df.index = ['Average']\n",
    "# df = pd.concat([averages, averages_df], axis=0)\n",
    "# \n",
    "# df    "
   ],
   "outputs": [],
   "execution_count": 5
  },
  {
   "metadata": {
    "ExecuteTime": {
     "end_time": "2024-08-23T09:35:07.754561Z",
     "start_time": "2024-08-23T09:35:07.430565Z"
    }
   },
   "cell_type": "code",
   "source": [
    "# Create the plot with the updated title and y-axis label\n",
    "x = np.linspace(0, 2 * np.pi, 1000)\n",
    "y = np.sin(x)\n",
    "plt.figure(figsize=(8, 6))\n",
    "plt.plot(x, y, label=\"Current (I)\", color=\"blue\")\n",
    "\n",
    "# Set x-axis and y-axis labels\n",
    "plt.xlabel(\"Time (s)\")\n",
    "plt.ylabel(\"Current $I_{o}$\")\n",
    "\n",
    "# Set x-axis at 0.00\n",
    "plt.axhline(y=0, color='black', linewidth=1.5)\n",
    "\n",
    "plt.xlim([0, 2 * np.pi])\n",
    "# plt.ylim([-1, 1])  # Since sin(x) ranges from -1 to 1\n",
    "# Disable x-ticks\n",
    "# plt.xticks([])\n",
    "\n",
    "# Add updated title and grid\n",
    "plt.title(\"Alternating Current (AC)\")\n",
    "plt.grid(True)\n",
    "plt.legend()\n",
    "\n",
    "# Show the plot\n",
    "plt.show()\n"
   ],
   "outputs": [
    {
     "data": {
      "text/plain": [
       "<Figure size 800x600 with 1 Axes>"
      ],
      "image/png": "[encoded data removed]"
     },
     "metadata": {},
     "output_type": "display_data"
    }
   ],
   "execution_count": 11
  }
 ],
 "metadata": {
  "kernelspec": {
   "display_name": "Python 3",
   "language": "python",
   "name": "python3"
  },
  "language_info": {
   "codemirror_mode": {
    "name": "ipython",
    "version": 3
   },
   "file_extension": ".py",
   "mimetype": "text/x-python",
   "name": "python",
   "nbconvert_exporter": "python",
   "pygments_lexer": "ipython3",
   "version": "3.10.7"
  }
 },
 "nbformat": 4,
 "nbformat_minor": 2
}
